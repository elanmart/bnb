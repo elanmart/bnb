{
 "cells": [
  {
   "cell_type": "code",
   "execution_count": 3,
   "metadata": {},
   "outputs": [],
   "source": [
    "from sklearn import datasets, ensemble, metrics\n",
    "from bnb import Experiment, get_current_context\n",
    "\n",
    "ex = Experiment('iris', 'mytag', dirty_ok=True, auto_enabled=True)\n",
    "\n",
    "@ex.watch\n",
    "def main(n_estimators, max_depth, criterion):\n",
    "    ctx = get_current_context()\n",
    "    clf = ensemble.RandomForestClassifier(n_estimators=n_estimators,\n",
    "                                          max_depth=max_depth,\n",
    "                                          criterion=criterion)\n",
    "\n",
    "    iris = datasets.load_iris()\n",
    "    X, y = iris.data, iris.target\n",
    "    clf = clf.fit(X, y)\n",
    "    p = clf.predict(X)\n",
    "\n",
    "    precision = metrics.precision_score(y, p, average='macro')\n",
    "    recall = metrics.recall_score(y, p, average='macro')\n",
    "    \n",
    "    ctx.report('precision', precision)\n",
    "    ctx.report('recall', recall)    "
   ]
  },
  {
   "cell_type": "code",
   "execution_count": 4,
   "metadata": {},
   "outputs": [
    {
     "name": "stderr",
     "output_type": "stream",
     "text": [
      "/home/elan/anaconda3/lib/python3.6/site-packages/sklearn/metrics/classification.py:1135: UndefinedMetricWarning:\n",
      "\n",
      "Precision is ill-defined and being set to 0.0 in labels with no predicted samples.\n",
      "\n",
      "/home/elan/anaconda3/lib/python3.6/site-packages/sklearn/metrics/classification.py:1135: UndefinedMetricWarning:\n",
      "\n",
      "Precision is ill-defined and being set to 0.0 in labels with no predicted samples.\n",
      "\n",
      "/home/elan/anaconda3/lib/python3.6/site-packages/sklearn/metrics/classification.py:1135: UndefinedMetricWarning:\n",
      "\n",
      "Precision is ill-defined and being set to 0.0 in labels with no predicted samples.\n",
      "\n"
     ]
    }
   ],
   "source": [
    "for ne in [-1, 1, 2, 3, 4]:\n",
    "    for md in [-1, 1, 2, 3, 4]:\n",
    "        main(ne, md, criterion='gini')"
   ]
  },
  {
   "cell_type": "code",
   "execution_count": 5,
   "metadata": {},
   "outputs": [],
   "source": [
    "from bnb.vis import get"
   ]
  },
  {
   "cell_type": "code",
   "execution_count": 6,
   "metadata": {},
   "outputs": [],
   "source": [
    "res = get('iris')"
   ]
  },
  {
   "cell_type": "code",
   "execution_count": 7,
   "metadata": {
    "scrolled": true
   },
   "outputs": [
    {
     "data": {
      "text/plain": [
       "(25, 18)"
      ]
     },
     "execution_count": 7,
     "metadata": {},
     "output_type": "execute_result"
    }
   ],
   "source": [
    "res.df.shape"
   ]
  },
  {
   "cell_type": "code",
   "execution_count": 8,
   "metadata": {},
   "outputs": [
    {
     "data": {
      "text/html": [
       "<div>\n",
       "<style>\n",
       "    .dataframe thead tr:only-child th {\n",
       "        text-align: right;\n",
       "    }\n",
       "\n",
       "    .dataframe thead th {\n",
       "        text-align: left;\n",
       "    }\n",
       "\n",
       "    .dataframe tbody tr th {\n",
       "        vertical-align: top;\n",
       "    }\n",
       "</style>\n",
       "<table border=\"1\" class=\"dataframe\">\n",
       "  <thead>\n",
       "    <tr>\n",
       "      <th></th>\n",
       "      <th colspan=\"3\" halign=\"left\">config</th>\n",
       "      <th colspan=\"4\" halign=\"left\">details</th>\n",
       "      <th colspan=\"3\" halign=\"left\">misc</th>\n",
       "      <th colspan=\"2\" halign=\"left\">results</th>\n",
       "      <th colspan=\"6\" halign=\"left\">rich_id</th>\n",
       "    </tr>\n",
       "    <tr>\n",
       "      <th></th>\n",
       "      <th>criterion</th>\n",
       "      <th>max_depth</th>\n",
       "      <th>n_estimators</th>\n",
       "      <th>ID</th>\n",
       "      <th>start</th>\n",
       "      <th>status</th>\n",
       "      <th>total</th>\n",
       "      <th>command</th>\n",
       "      <th>error</th>\n",
       "      <th>host</th>\n",
       "      <th>precision</th>\n",
       "      <th>recall</th>\n",
       "      <th>bucket</th>\n",
       "      <th>commit</th>\n",
       "      <th>name</th>\n",
       "      <th>root</th>\n",
       "      <th>tags</th>\n",
       "      <th>version</th>\n",
       "    </tr>\n",
       "  </thead>\n",
       "  <tbody>\n",
       "    <tr>\n",
       "      <th>0</th>\n",
       "      <td>gini</td>\n",
       "      <td>-1</td>\n",
       "      <td>-1</td>\n",
       "      <td>27f7d2b5ca7f4f55befaac1d355466a5</td>\n",
       "      <td>09-04-18 13:52:35</td>\n",
       "      <td>FAIL</td>\n",
       "      <td>0.000033</td>\n",
       "      <td></td>\n",
       "      <td>n_estimators must be greater than zero, got -1.</td>\n",
       "      <td>{}</td>\n",
       "      <td>NaN</td>\n",
       "      <td>NaN</td>\n",
       "      <td>None</td>\n",
       "      <td>None</td>\n",
       "      <td>iris</td>\n",
       "      <td>/home/elan/Mine/ml-mine/code/bnb-git-repo/exam...</td>\n",
       "      <td>[mytag]</td>\n",
       "      <td>0.0.0.1</td>\n",
       "    </tr>\n",
       "  </tbody>\n",
       "</table>\n",
       "</div>"
      ],
      "text/plain": [
       "     config                                                  details  \\\n",
       "  criterion max_depth n_estimators                                ID   \n",
       "0      gini        -1           -1  27f7d2b5ca7f4f55befaac1d355466a5   \n",
       "\n",
       "                                         misc  \\\n",
       "               start status     total command   \n",
       "0  09-04-18 13:52:35   FAIL  0.000033           \n",
       "\n",
       "                                                          results         \\\n",
       "                                             error host precision recall   \n",
       "0  n_estimators must be greater than zero, got -1.   {}       NaN    NaN   \n",
       "\n",
       "  rich_id                                                                  \\\n",
       "   bucket commit  name                                               root   \n",
       "0    None   None  iris  /home/elan/Mine/ml-mine/code/bnb-git-repo/exam...   \n",
       "\n",
       "                     \n",
       "      tags  version  \n",
       "0  [mytag]  0.0.0.1  "
      ]
     },
     "execution_count": 8,
     "metadata": {},
     "output_type": "execute_result"
    }
   ],
   "source": [
    "res.df.head(1)"
   ]
  },
  {
   "cell_type": "code",
   "execution_count": 9,
   "metadata": {},
   "outputs": [
    {
     "data": {
      "text/html": [
       "<div>\n",
       "<style>\n",
       "    .dataframe thead tr:only-child th {\n",
       "        text-align: right;\n",
       "    }\n",
       "\n",
       "    .dataframe thead th {\n",
       "        text-align: left;\n",
       "    }\n",
       "\n",
       "    .dataframe tbody tr th {\n",
       "        vertical-align: top;\n",
       "    }\n",
       "</style>\n",
       "<table border=\"1\" class=\"dataframe\">\n",
       "  <thead>\n",
       "    <tr style=\"text-align: right;\">\n",
       "      <th></th>\n",
       "      <th>criterion</th>\n",
       "      <th>max_depth</th>\n",
       "      <th>n_estimators</th>\n",
       "    </tr>\n",
       "  </thead>\n",
       "  <tbody>\n",
       "    <tr>\n",
       "      <th>0</th>\n",
       "      <td>gini</td>\n",
       "      <td>-1</td>\n",
       "      <td>-1</td>\n",
       "    </tr>\n",
       "  </tbody>\n",
       "</table>\n",
       "</div>"
      ],
      "text/plain": [
       "  criterion  max_depth  n_estimators\n",
       "0      gini         -1            -1"
      ]
     },
     "execution_count": 9,
     "metadata": {},
     "output_type": "execute_result"
    }
   ],
   "source": [
    "res.df.head(1).config"
   ]
  },
  {
   "cell_type": "code",
   "execution_count": 10,
   "metadata": {},
   "outputs": [
    {
     "data": {
      "text/html": [
       "<div>\n",
       "<style>\n",
       "    .dataframe thead tr:only-child th {\n",
       "        text-align: right;\n",
       "    }\n",
       "\n",
       "    .dataframe thead th {\n",
       "        text-align: left;\n",
       "    }\n",
       "\n",
       "    .dataframe tbody tr th {\n",
       "        vertical-align: top;\n",
       "    }\n",
       "</style>\n",
       "<table border=\"1\" class=\"dataframe\">\n",
       "  <thead>\n",
       "    <tr>\n",
       "      <th></th>\n",
       "      <th colspan=\"2\" halign=\"left\">results</th>\n",
       "      <th colspan=\"3\" halign=\"left\">config</th>\n",
       "    </tr>\n",
       "    <tr>\n",
       "      <th></th>\n",
       "      <th>precision</th>\n",
       "      <th>recall</th>\n",
       "      <th>criterion</th>\n",
       "      <th>max_depth</th>\n",
       "      <th>n_estimators</th>\n",
       "    </tr>\n",
       "  </thead>\n",
       "  <tbody>\n",
       "    <tr>\n",
       "      <th>0</th>\n",
       "      <td>NaN</td>\n",
       "      <td>NaN</td>\n",
       "      <td>gini</td>\n",
       "      <td>-1</td>\n",
       "      <td>-1</td>\n",
       "    </tr>\n",
       "  </tbody>\n",
       "</table>\n",
       "</div>"
      ],
      "text/plain": [
       "    results           config                       \n",
       "  precision recall criterion max_depth n_estimators\n",
       "0       NaN    NaN      gini        -1           -1"
      ]
     },
     "execution_count": 10,
     "metadata": {},
     "output_type": "execute_result"
    }
   ],
   "source": [
    "res.no_details().df.head(1)"
   ]
  },
  {
   "cell_type": "code",
   "execution_count": 11,
   "metadata": {},
   "outputs": [
    {
     "data": {
      "text/html": [
       "<div>\n",
       "<style>\n",
       "    .dataframe thead tr:only-child th {\n",
       "        text-align: right;\n",
       "    }\n",
       "\n",
       "    .dataframe thead th {\n",
       "        text-align: left;\n",
       "    }\n",
       "\n",
       "    .dataframe tbody tr th {\n",
       "        vertical-align: top;\n",
       "    }\n",
       "</style>\n",
       "<table border=\"1\" class=\"dataframe\">\n",
       "  <thead>\n",
       "    <tr>\n",
       "      <th></th>\n",
       "      <th colspan=\"2\" halign=\"left\">results</th>\n",
       "      <th colspan=\"2\" halign=\"left\">config</th>\n",
       "    </tr>\n",
       "    <tr>\n",
       "      <th></th>\n",
       "      <th>precision</th>\n",
       "      <th>recall</th>\n",
       "      <th>max_depth</th>\n",
       "      <th>n_estimators</th>\n",
       "    </tr>\n",
       "  </thead>\n",
       "  <tbody>\n",
       "    <tr>\n",
       "      <th>0</th>\n",
       "      <td>NaN</td>\n",
       "      <td>NaN</td>\n",
       "      <td>-1</td>\n",
       "      <td>-1</td>\n",
       "    </tr>\n",
       "  </tbody>\n",
       "</table>\n",
       "</div>"
      ],
      "text/plain": [
       "    results           config             \n",
       "  precision recall max_depth n_estimators\n",
       "0       NaN    NaN        -1           -1"
      ]
     },
     "execution_count": 11,
     "metadata": {},
     "output_type": "execute_result"
    }
   ],
   "source": [
    "res.compare().no_details().df.head(1)"
   ]
  },
  {
   "cell_type": "code",
   "execution_count": 12,
   "metadata": {},
   "outputs": [
    {
     "data": {
      "text/html": [
       "<div>\n",
       "<style>\n",
       "    .dataframe thead tr:only-child th {\n",
       "        text-align: right;\n",
       "    }\n",
       "\n",
       "    .dataframe thead th {\n",
       "        text-align: left;\n",
       "    }\n",
       "\n",
       "    .dataframe tbody tr th {\n",
       "        vertical-align: top;\n",
       "    }\n",
       "</style>\n",
       "<table border=\"1\" class=\"dataframe\">\n",
       "  <thead>\n",
       "    <tr>\n",
       "      <th></th>\n",
       "      <th colspan=\"2\" halign=\"left\">results</th>\n",
       "      <th colspan=\"2\" halign=\"left\">config</th>\n",
       "    </tr>\n",
       "    <tr>\n",
       "      <th></th>\n",
       "      <th>precision</th>\n",
       "      <th>recall</th>\n",
       "      <th>max_depth</th>\n",
       "      <th>n_estimators</th>\n",
       "    </tr>\n",
       "  </thead>\n",
       "  <tbody>\n",
       "    <tr>\n",
       "      <th>23</th>\n",
       "      <td>0.981132</td>\n",
       "      <td>0.98</td>\n",
       "      <td>3</td>\n",
       "      <td>4</td>\n",
       "    </tr>\n",
       "    <tr>\n",
       "      <th>14</th>\n",
       "      <td>0.980125</td>\n",
       "      <td>0.98</td>\n",
       "      <td>4</td>\n",
       "      <td>2</td>\n",
       "    </tr>\n",
       "    <tr>\n",
       "      <th>24</th>\n",
       "      <td>0.980125</td>\n",
       "      <td>0.98</td>\n",
       "      <td>4</td>\n",
       "      <td>4</td>\n",
       "    </tr>\n",
       "  </tbody>\n",
       "</table>\n",
       "</div>"
      ],
      "text/plain": [
       "     results           config             \n",
       "   precision recall max_depth n_estimators\n",
       "23  0.981132   0.98         3            4\n",
       "14  0.980125   0.98         4            2\n",
       "24  0.980125   0.98         4            4"
      ]
     },
     "execution_count": 12,
     "metadata": {},
     "output_type": "execute_result"
    }
   ],
   "source": [
    "res.top_k(('precision', 'recall'), k=3).no_details().compare().df"
   ]
  },
  {
   "cell_type": "code",
   "execution_count": 13,
   "metadata": {},
   "outputs": [
    {
     "data": {
      "text/plain": [
       "(16, 18)"
      ]
     },
     "execution_count": 13,
     "metadata": {},
     "output_type": "execute_result"
    }
   ],
   "source": [
    "res.only_ok().df.shape"
   ]
  },
  {
   "cell_type": "code",
   "execution_count": 14,
   "metadata": {},
   "outputs": [
    {
     "data": {
      "text/plain": [
       "(25, 18)"
      ]
     },
     "execution_count": 14,
     "metadata": {},
     "output_type": "execute_result"
    }
   ],
   "source": [
    "res.has_any('mytag').df.shape"
   ]
  },
  {
   "cell_type": "code",
   "execution_count": 15,
   "metadata": {},
   "outputs": [
    {
     "data": {
      "text/plain": [
       "(0, 18)"
      ]
     },
     "execution_count": 15,
     "metadata": {},
     "output_type": "execute_result"
    }
   ],
   "source": [
    "res.has_any('what').df.shape"
   ]
  },
  {
   "cell_type": "code",
   "execution_count": 16,
   "metadata": {},
   "outputs": [
    {
     "data": {
      "text/plain": [
       "0     FAIL\n",
       "1     FAIL\n",
       "2     FAIL\n",
       "3     FAIL\n",
       "4     FAIL\n",
       "5     FAIL\n",
       "6       OK\n",
       "7       OK\n",
       "8       OK\n",
       "9       OK\n",
       "10    FAIL\n",
       "11      OK\n",
       "12      OK\n",
       "13      OK\n",
       "14      OK\n",
       "15    FAIL\n",
       "16      OK\n",
       "17      OK\n",
       "18      OK\n",
       "19      OK\n",
       "20    FAIL\n",
       "21      OK\n",
       "22      OK\n",
       "23      OK\n",
       "24      OK\n",
       "Name: status, dtype: object"
      ]
     },
     "execution_count": 16,
     "metadata": {},
     "output_type": "execute_result"
    }
   ],
   "source": [
    "res.df.details.status"
   ]
  },
  {
   "cell_type": "code",
   "execution_count": 17,
   "metadata": {
    "scrolled": false
   },
   "outputs": [
    {
     "data": {
      "text/plain": [
       "0     n_estimators must be greater than zero, got -1.\n",
       "1     n_estimators must be greater than zero, got -1.\n",
       "2     n_estimators must be greater than zero, got -1.\n",
       "3     n_estimators must be greater than zero, got -1.\n",
       "4     n_estimators must be greater than zero, got -1.\n",
       "5               max_depth must be greater than zero. \n",
       "6                                                    \n",
       "7                                                    \n",
       "8                                                    \n",
       "9                                                    \n",
       "10              max_depth must be greater than zero. \n",
       "11                                                   \n",
       "12                                                   \n",
       "13                                                   \n",
       "14                                                   \n",
       "15              max_depth must be greater than zero. \n",
       "16                                                   \n",
       "17                                                   \n",
       "18                                                   \n",
       "19                                                   \n",
       "20              max_depth must be greater than zero. \n",
       "21                                                   \n",
       "22                                                   \n",
       "23                                                   \n",
       "24                                                   \n",
       "Name: error, dtype: object"
      ]
     },
     "execution_count": 17,
     "metadata": {},
     "output_type": "execute_result"
    }
   ],
   "source": [
    "res.df.misc.error"
   ]
  },
  {
   "cell_type": "code",
   "execution_count": 18,
   "metadata": {},
   "outputs": [],
   "source": [
    "from sklearn import datasets, ensemble, metrics\n",
    "from bnb import Experiment, get_current_context\n",
    "import numpy as np\n",
    "import time\n",
    "\n",
    "ex = Experiment('scalars', dirty_ok=True, auto_enabled=True)\n",
    "\n",
    "@ex.watch\n",
    "def main(a):\n",
    "    ctx = get_current_context()\n",
    "    for x in range(1, 11):\n",
    "        ctx.log_scalar('y', (a / x), int(x))"
   ]
  },
  {
   "cell_type": "code",
   "execution_count": 19,
   "metadata": {},
   "outputs": [
    {
     "name": "stderr",
     "output_type": "stream",
     "text": [
      "Skipping, because this run was already in DB.\n",
      "Skipping, because this run was already in DB.\n",
      "Skipping, because this run was already in DB.\n"
     ]
    }
   ],
   "source": [
    "for a in [1., 2., 3.]:\n",
    "    main(a)"
   ]
  },
  {
   "cell_type": "code",
   "execution_count": 20,
   "metadata": {},
   "outputs": [],
   "source": [
    "from bnb.vis.core import get\n",
    "from plotly.offline import init_notebook_mode"
   ]
  },
  {
   "cell_type": "code",
   "execution_count": 21,
   "metadata": {},
   "outputs": [
    {
     "data": {
      "text/html": [
       "<script>requirejs.config({paths: { 'plotly': ['https://cdn.plot.ly/plotly-latest.min']},});if(!window.Plotly) {{require(['plotly'],function(plotly) {window.Plotly=plotly;});}}</script>"
      ],
      "text/vnd.plotly.v1+html": [
       "<script>requirejs.config({paths: { 'plotly': ['https://cdn.plot.ly/plotly-latest.min']},});if(!window.Plotly) {{require(['plotly'],function(plotly) {window.Plotly=plotly;});}}</script>"
      ]
     },
     "metadata": {},
     "output_type": "display_data"
    },
    {
     "data": {
      "application/vnd.plotly.v1+json": {
       "data": [
        {
         "mode": "lines",
         "name": "ix_(-3)",
         "type": "scatter",
         "x": [
          1,
          2,
          3,
          4,
          5,
          6,
          7,
          8,
          9,
          10
         ],
         "y": [
          1,
          0.5,
          0.33333333330000003,
          0.25,
          0.2,
          0.1666666667,
          0.1428571429,
          0.125,
          0.1111111111,
          0.1
         ]
        },
        {
         "mode": "lines",
         "name": "ix_(-2)",
         "type": "scatter",
         "x": [
          1,
          2,
          3,
          4,
          5,
          6,
          7,
          8,
          9,
          10
         ],
         "y": [
          2,
          1,
          0.6666666667000001,
          0.5,
          0.4,
          0.33333333330000003,
          0.2857142857,
          0.25,
          0.2222222222,
          0.2
         ]
        },
        {
         "mode": "lines",
         "name": "ix_(-1)",
         "type": "scatter",
         "x": [
          1,
          2,
          3,
          4,
          5,
          6,
          7,
          8,
          9,
          10
         ],
         "y": [
          3,
          1.5,
          1,
          0.75,
          0.6000000000000001,
          0.5,
          0.4285714286,
          0.375,
          0.33333333330000003,
          0.30000000000000004
         ]
        }
       ],
       "layout": {
        "autosize": false,
        "height": 250,
        "margin": {
         "b": 35,
         "l": 35,
         "pad": 0,
         "r": 35,
         "t": 35
        },
        "width": 1000
       }
      },
      "text/html": [
       "<div id=\"6a3ddbf2-ff57-4556-a9d6-36530e883f92\" style=\"height: 250px; width: 1000px;\" class=\"plotly-graph-div\"></div><script type=\"text/javascript\">require([\"plotly\"], function(Plotly) { window.PLOTLYENV=window.PLOTLYENV || {};window.PLOTLYENV.BASE_URL=\"https://plot.ly\";Plotly.newPlot(\"6a3ddbf2-ff57-4556-a9d6-36530e883f92\", [{\"type\": \"scatter\", \"x\": [1, 2, 3, 4, 5, 6, 7, 8, 9, 10], \"y\": [1.0, 0.5, 0.33333333330000003, 0.25, 0.2, 0.1666666667, 0.1428571429, 0.125, 0.1111111111, 0.1], \"name\": \"ix_(-3)\", \"mode\": \"lines\"}, {\"type\": \"scatter\", \"x\": [1, 2, 3, 4, 5, 6, 7, 8, 9, 10], \"y\": [2.0, 1.0, 0.6666666667000001, 0.5, 0.4, 0.33333333330000003, 0.2857142857, 0.25, 0.2222222222, 0.2], \"name\": \"ix_(-2)\", \"mode\": \"lines\"}, {\"type\": \"scatter\", \"x\": [1, 2, 3, 4, 5, 6, 7, 8, 9, 10], \"y\": [3.0, 1.5, 1.0, 0.75, 0.6000000000000001, 0.5, 0.4285714286, 0.375, 0.33333333330000003, 0.30000000000000004], \"name\": \"ix_(-1)\", \"mode\": \"lines\"}], {\"autosize\": false, \"width\": 1000, \"height\": 250, \"margin\": {\"l\": 35, \"r\": 35, \"b\": 35, \"t\": 35, \"pad\": 0}}, {\"showLink\": true, \"linkText\": \"Export to plot.ly\"})});</script>"
      ],
      "text/vnd.plotly.v1+html": [
       "<div id=\"6a3ddbf2-ff57-4556-a9d6-36530e883f92\" style=\"height: 250px; width: 1000px;\" class=\"plotly-graph-div\"></div><script type=\"text/javascript\">require([\"plotly\"], function(Plotly) { window.PLOTLYENV=window.PLOTLYENV || {};window.PLOTLYENV.BASE_URL=\"https://plot.ly\";Plotly.newPlot(\"6a3ddbf2-ff57-4556-a9d6-36530e883f92\", [{\"type\": \"scatter\", \"x\": [1, 2, 3, 4, 5, 6, 7, 8, 9, 10], \"y\": [1.0, 0.5, 0.33333333330000003, 0.25, 0.2, 0.1666666667, 0.1428571429, 0.125, 0.1111111111, 0.1], \"name\": \"ix_(-3)\", \"mode\": \"lines\"}, {\"type\": \"scatter\", \"x\": [1, 2, 3, 4, 5, 6, 7, 8, 9, 10], \"y\": [2.0, 1.0, 0.6666666667000001, 0.5, 0.4, 0.33333333330000003, 0.2857142857, 0.25, 0.2222222222, 0.2], \"name\": \"ix_(-2)\", \"mode\": \"lines\"}, {\"type\": \"scatter\", \"x\": [1, 2, 3, 4, 5, 6, 7, 8, 9, 10], \"y\": [3.0, 1.5, 1.0, 0.75, 0.6000000000000001, 0.5, 0.4285714286, 0.375, 0.33333333330000003, 0.30000000000000004], \"name\": \"ix_(-1)\", \"mode\": \"lines\"}], {\"autosize\": false, \"width\": 1000, \"height\": 250, \"margin\": {\"l\": 35, \"r\": 35, \"b\": 35, \"t\": 35, \"pad\": 0}}, {\"showLink\": true, \"linkText\": \"Export to plot.ly\"})});</script>"
      ]
     },
     "metadata": {},
     "output_type": "display_data"
    }
   ],
   "source": [
    "init_notebook_mode(True)\n",
    "\n",
    "res = get('scalars')\n",
    "res.compare_runs('y', iloc=-3)"
   ]
  }
 ],
 "metadata": {
  "kernelspec": {
   "display_name": "Python [default]",
   "language": "python",
   "name": "python3"
  },
  "language_info": {
   "codemirror_mode": {
    "name": "ipython",
    "version": 3
   },
   "file_extension": ".py",
   "mimetype": "text/x-python",
   "name": "python",
   "nbconvert_exporter": "python",
   "pygments_lexer": "ipython3",
   "version": "3.6.1"
  },
  "latex_envs": {
   "LaTeX_envs_menu_present": true,
   "autocomplete": true,
   "bibliofile": "biblio.bib",
   "cite_by": "apalike",
   "current_citInitial": 1,
   "eqLabelWithNumbers": true,
   "eqNumInitial": 1,
   "hotkeys": {
    "equation": "Ctrl-E",
    "itemize": "Ctrl-I"
   },
   "labels_anchors": false,
   "latex_user_defs": false,
   "report_style_numbering": false,
   "user_envs_cfg": false
  }
 },
 "nbformat": 4,
 "nbformat_minor": 2
}
